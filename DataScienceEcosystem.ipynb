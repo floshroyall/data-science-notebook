{
 "cells": [
  {
   "cell_type": "markdown",
   "id": "16aaa925-7995-41b5-9039-dc20d0e4fdb3",
   "metadata": {},
   "source": [
    "# Data Science Tools and Ecosystem"
   ]
  },
  {
   "cell_type": "markdown",
   "id": "47886a9c-c4c2-4a3c-ace7-f10ee32bc4c8",
   "metadata": {},
   "source": [
    "In this notebook, Data Science Tools and Ecosystem are summarized."
   ]
  },
  {
   "cell_type": "markdown",
   "id": "c99f241f-e5e1-4b4d-bbdb-8c2946171032",
   "metadata": {
    "collapsed": true,
    "jupyter": {
     "outputs_hidden": true
    }
   },
   "source": [
    "**Objectives:**\n",
    "\n",
    "- List popular languages for Data Science  \n",
    "- Identify commonly used libraries in Data Science  \n",
    "- Use markdown to format text and tables  \n",
    "- Perform basic arithmetic expressions in Python  "
   ]
  },
  {
   "cell_type": "markdown",
   "id": "b19b6032-ec30-48de-a481-da6f3d458992",
   "metadata": {},
   "source": [
    "Some of the popular languages that Data Scientists use are:\n",
    "1. Pyhthon\n",
    "2. R\n",
    "3. Sql"
   ]
  },
  {
   "cell_type": "markdown",
   "id": "2b03b4eb-f650-41c0-be4d-2ced6c33b0f9",
   "metadata": {},
   "source": [
    "Some of the commonly used libraries used by Data Scientists include:\n",
    "1. pandas\n",
    "2. NumPy\n",
    "3. Matplotlib"
   ]
  },
  {
   "cell_type": "markdown",
   "id": "569203aa-f5a9-4305-9426-beefeaa73ec0",
   "metadata": {},
   "source": [
    "| Data Science Tools        |\n",
    "|:--------------------------|\n",
    "| Jupyter Notebook          |\n",
    "| Jupyter Lab               |\n",
    "| R Studio                  |\n"
   ]
  },
  {
   "cell_type": "markdown",
   "id": "8e012e85-eef9-4268-a544-eafe3e3833a0",
   "metadata": {},
   "source": [
    "### Below are a few examples of evaluating arithmetic expressions in Python\n"
   ]
  },
  {
   "cell_type": "code",
   "execution_count": 4,
   "id": "6a5dc5a9-eec5-4c06-9424-35ff890a04b1",
   "metadata": {},
   "outputs": [
    {
     "data": {
      "text/plain": [
       "17"
      ]
     },
     "execution_count": 4,
     "metadata": {},
     "output_type": "execute_result"
    }
   ],
   "source": [
    "#This a simple arithmetic expression to mutiply then add integers\n",
    "(3*4)+5"
   ]
  },
  {
   "cell_type": "code",
   "execution_count": 5,
   "id": "a6a60856-989a-48fc-a9f5-ff6ddcc19020",
   "metadata": {},
   "outputs": [
    {
     "data": {
      "text/plain": [
       "3.3333333333333335"
      ]
     },
     "execution_count": 5,
     "metadata": {},
     "output_type": "execute_result"
    }
   ],
   "source": [
    "#This will convert 200 minutes to hours by diving by 60\n",
    "200/60"
   ]
  },
  {
   "cell_type": "markdown",
   "id": "a1e28d2f-15f0-4e6e-b576-ba698953869b",
   "metadata": {},
   "source": [
    "## Author \n",
    "Huzeyfe Yayla "
   ]
  },
  {
   "cell_type": "code",
   "execution_count": null,
   "id": "5c13a4a7-c1a6-4cae-899f-df31b549ebff",
   "metadata": {},
   "outputs": [],
   "source": []
  }
 ],
 "metadata": {
  "kernelspec": {
   "display_name": "Python [conda env:base] *",
   "language": "python",
   "name": "conda-base-py"
  },
  "language_info": {
   "codemirror_mode": {
    "name": "ipython",
    "version": 3
   },
   "file_extension": ".py",
   "mimetype": "text/x-python",
   "name": "python",
   "nbconvert_exporter": "python",
   "pygments_lexer": "ipython3",
   "version": "3.12.7"
  }
 },
 "nbformat": 4,
 "nbformat_minor": 5
}
